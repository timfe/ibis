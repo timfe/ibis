{
 "cells": [
  {
   "cell_type": "code",
   "execution_count": 12,
   "metadata": {},
   "outputs": [],
   "source": [
    "import glob\n",
    "import shutil\n",
    "import os\n",
    "import pandas as pd"
   ]
  },
  {
   "cell_type": "code",
   "execution_count": 13,
   "metadata": {},
   "outputs": [],
   "source": [
    "path = '/Volumes/Data/projects/ibis/data/NIFTI'\n",
    "subject_folders = glob.glob(f'{path}/IN*')\n",
    "lst = []\n",
    "for folder in subject_folders:\n",
    "    files = glob.glob(f'{folder}/RESTING-STATE/*.nii')\n",
    "    n = len(files)\n",
    "    if n == 200:\n",
    "     lst += [os.path.basename(folder)]"
   ]
  },
  {
   "cell_type": "code",
   "execution_count": 14,
   "metadata": {},
   "outputs": [],
   "source": [
    "base_path = '/Volumes/Data/projects/ibis/analysis/DPARSF'\n",
    "output_path = '/Volumes/Data/projects/ibis/analysis/DPARSF_test'\n",
    "if not os.path.exists(output_path):\n",
    "    os.mkdir(output_path)"
   ]
  },
  {
   "cell_type": "code",
   "execution_count": 15,
   "metadata": {},
   "outputs": [],
   "source": [
    "project = 'N13'\n",
    "n_subjects = 10\n",
    "funImg_folders = glob.glob(f'{base_path}/{project}/FunImg/IN*')\n",
    "T1Img_folders = glob.glob(f'{base_path}/{project}/T1Img/IN*')\n",
    "\n",
    "for subject in lst:\n",
    "    fun_src = f'{base_path}/{project}/FunImg/{subject}'\n",
    "    fun_dest = f'{output_path}/{project}/FunImg/{subject}'\n",
    "    shutil.copytree(fun_src, fun_dest)\n",
    "    T1_src = f'{base_path}/{project}/T1Img/{subject}'\n",
    "    T1_dest = f'{output_path}/{project}/T1Img/{subject}'\n",
    "    shutil.copytree(T1_src, T1_dest)"
   ]
  }
 ],
 "metadata": {
  "interpreter": {
   "hash": "3457992a284a47d39fd97a06d2c5f9bb09685ad50a60e51151f10dbfde67a8a4"
  },
  "kernelspec": {
   "display_name": "Python 3.9.5 ('base')",
   "language": "python",
   "name": "python3"
  },
  "language_info": {
   "codemirror_mode": {
    "name": "ipython",
    "version": 3
   },
   "file_extension": ".py",
   "mimetype": "text/x-python",
   "name": "python",
   "nbconvert_exporter": "python",
   "pygments_lexer": "ipython3",
   "version": "3.9.5"
  },
  "orig_nbformat": 4
 },
 "nbformat": 4,
 "nbformat_minor": 2
}

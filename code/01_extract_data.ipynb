{
 "cells": [
  {
   "cell_type": "code",
   "execution_count": 7,
   "metadata": {},
   "outputs": [],
   "source": [
    "import os, shutil, glob, patoolib\n",
    "from zipfile import ZipFile, ZipInfo\n",
    "import pandas as pd\n",
    "from pathlib import Path\n",
    "from tqdm.notebook import tqdm"
   ]
  },
  {
   "cell_type": "code",
   "execution_count": 8,
   "metadata": {},
   "outputs": [],
   "source": [
    "# Please Change to your requirements:\n",
    "inputDir = '/Volumes/Data/projects/ibis/data/raw/MRI_RAW_N13/MRI_RAW'\n",
    "outputDir = '/Volumes/Data/projects/ibis/data/DICOM'"
   ]
  },
  {
   "cell_type": "code",
   "execution_count": 9,
   "metadata": {},
   "outputs": [],
   "source": [
    "zipFiles = glob.glob(f'{inputDir}/*/*.zip', recursive=True)\n",
    "rarFiles = glob.glob(f'{inputDir}/*/*.rar', recursive=True)"
   ]
  },
  {
   "cell_type": "code",
   "execution_count": 10,
   "metadata": {},
   "outputs": [
    {
     "data": {
      "application/vnd.jupyter.widget-view+json": {
       "model_id": "519832ef01a54b1099b25cf9ad42c2f2",
       "version_major": 2,
       "version_minor": 0
      },
      "text/plain": [
       "0it [00:00, ?it/s]"
      ]
     },
     "metadata": {},
     "output_type": "display_data"
    }
   ],
   "source": [
    "for zipFile in tqdm(zipFiles):\n",
    "    filename = os.path.splitext((os.path.basename(zipFile)))[0]\n",
    "    subjectid = filename.split('MRI')[0]\n",
    "    subjectDir = f\"{outputDir}/{subjectid}\"\n",
    "    if os.path.exists(subjectDir):\n",
    "        continue\n",
    "    else:\n",
    "        try:    \n",
    "            with ZipFile(zipFile) as zip:\n",
    "                subjectname = zip.namelist()[0].split('/')[0]\n",
    "                extractPath = f'{outputDir}/{subjectname}'\n",
    "                zip.extractall(outputDir)\n",
    "                zip.close()\n",
    "            os.rename(extractPath, subjectDir)\n",
    "        except Exception as error:\n",
    "            print(error)\n",
    "            continue"
   ]
  },
  {
   "cell_type": "code",
   "execution_count": 11,
   "metadata": {},
   "outputs": [],
   "source": [
    "def move_up(base_path, dest):\n",
    "\tsubfolder_name = [f for f in os.listdir(base_path) if not f.startswith('.')][0]\n",
    "\tsubfolder_path = os.path.join(base_path, subfolder_name)\n",
    "\n",
    "\tdir_list = os.listdir(subfolder_path)\n",
    "\tfor dir_ in dir_list:\n",
    "\t\tsource = os.path.join(base_path, subfolder_name, dir_)\n",
    "\t\tshutil.move(source, dest)\n",
    "\tos.rmdir(subfolder_path)"
   ]
  },
  {
   "cell_type": "code",
   "execution_count": 12,
   "metadata": {},
   "outputs": [
    {
     "data": {
      "application/vnd.jupyter.widget-view+json": {
       "model_id": "feb57c799e514feaba5d34cfb22983a9",
       "version_major": 2,
       "version_minor": 0
      },
      "text/plain": [
       "0it [00:00, ?it/s]"
      ]
     },
     "metadata": {},
     "output_type": "display_data"
    }
   ],
   "source": [
    "for rarFile in tqdm(rarFiles):\n",
    "    filename = os.path.splitext((os.path.basename(rarFile)))[0]\n",
    "    subjectid = filename.split('MRI')[0]\n",
    "    subjectDir = f\"{outputDir}/{subjectid}\"\n",
    "    tempDir = f'{outputDir}/tmp'\n",
    "    print(subjectDir)\n",
    "    if os.path.exists(subjectDir):\n",
    "        continue\n",
    "    else:\n",
    "        os.mkdir(subjectDir)\n",
    "        try:\n",
    "            patoolib.extract_archive(rarFile, outdir = tempDir)\n",
    "            move_up(tempDir, subjectDir)\n",
    "        except Exception as error:\n",
    "            print(error)\n",
    "            continue"
   ]
  }
 ],
 "metadata": {
  "interpreter": {
   "hash": "3457992a284a47d39fd97a06d2c5f9bb09685ad50a60e51151f10dbfde67a8a4"
  },
  "kernelspec": {
   "display_name": "Python 3.9.5 ('base')",
   "language": "python",
   "name": "python3"
  },
  "language_info": {
   "codemirror_mode": {
    "name": "ipython",
    "version": 3
   },
   "file_extension": ".py",
   "mimetype": "text/x-python",
   "name": "python",
   "nbconvert_exporter": "python",
   "pygments_lexer": "ipython3",
   "version": "3.9.5"
  },
  "orig_nbformat": 4
 },
 "nbformat": 4,
 "nbformat_minor": 2
}

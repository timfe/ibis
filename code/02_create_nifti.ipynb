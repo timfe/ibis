{
 "cells": [
  {
   "cell_type": "code",
   "execution_count": 25,
   "metadata": {},
   "outputs": [],
   "source": [
    "import glob \n",
    "import os\n",
    "import subprocess\n",
    "import shutil\n",
    "from tqdm.notebook import tqdm"
   ]
  },
  {
   "cell_type": "code",
   "execution_count": 29,
   "metadata": {},
   "outputs": [],
   "source": [
    "# Please change these to your requirements:\n",
    "base_path = '/Volumes/Data/projects/ibis/data/DICOM' # This is where contents of the .zip files are stored; one folder for each subject\n",
    "outputPath = '/Volumes/Data/projects/ibis/data/NIFTI'\n",
    "subjects = [f for f in os.listdir(base_path) if not f.startswith('.')] # ignores hidden files and folders (necessary for mac because of .DS_Store files)"
   ]
  },
  {
   "cell_type": "code",
   "execution_count": 30,
   "metadata": {},
   "outputs": [
    {
     "data": {
      "application/vnd.jupyter.widget-view+json": {
       "model_id": "dd596b3c63f84a32b9ebf3e3d2cb338f",
       "version_major": 2,
       "version_minor": 0
      },
      "text/plain": [
       "  0%|          | 0/78 [00:00<?, ?it/s]"
      ]
     },
     "metadata": {},
     "output_type": "display_data"
    }
   ],
   "source": [
    "for subject in tqdm(subjects):\n",
    "    inputDir = f'{base_path}/{subject}'\n",
    "    outputDir = f'{outputPath}/{subject}'\n",
    "    if not os.path.exists(outputDir):\n",
    "        os.makedirs(outputDir)\n",
    "        subprocess.call(\"dcm2niix -f \" rf\"%p/%t_%s\" f\"-b y -o {outputDir} {inputDir}\", shell=True, stdin=subprocess.DEVNULL, stdout=subprocess.DEVNULL, stderr=subprocess.DEVNULL)\n",
    "    else:\n",
    "        continue\n",
    "    # !!!! DELETES ALL FOLDERS EXCEPT \"\"RESTING-STATE\"\" AND \"\"sT1W_3D_TFE_SENSE\"\" TO SAVE DISK SPACE !!!!\n",
    "    subfolders  = [os.path.basename(x) for x in glob.glob(f'{outputDir}/*')]\n",
    "    del_folders = subfolders\n",
    "    if 'RESTING-STATE' in subfolders:\n",
    "        del_folders.remove('RESTING-STATE')\n",
    "        del_folders.remove('sT1W_3D_TFE_SENSE')\n",
    "    for folder in del_folders:\n",
    "        shutil.rmtree(f'{outputDir}/{folder}')"
   ]
  },
  {
   "cell_type": "code",
   "execution_count": 8,
   "metadata": {},
   "outputs": [
    {
     "data": {
      "application/vnd.jupyter.widget-view+json": {
       "model_id": "694e4ce71ab54c9f8b25868947cddccf",
       "version_major": 2,
       "version_minor": 0
      },
      "text/plain": [
       "  0%|          | 0/77 [00:00<?, ?it/s]"
      ]
     },
     "metadata": {},
     "output_type": "display_data"
    }
   ],
   "source": [
    "# The following part copies the T1w images to the target folder \"T1Img\" defined by DPARSF. \n",
    "\n",
    "#destination = '/Volumes/Data/projects/ibis/analysis/DPARSF' ## PLEASE CHANGE TO YOUR REQUIREMENTS\n",
    "#for subject in tqdm(subjects):\n",
    "#    src = f'{outputPath}/{subject}'\n",
    "#    T1_folderName = 'sT1W_3D_TFE_SENSE'\n",
    "#\n",
    "#    # Copy Structural NIFTIs\n",
    "#    T1_src = os.path.join(src, T1_folderName)\n",
    "#    if 'N13' in subject:\n",
    "#        T1_dest = f'{destination}/N13/T1Img/{subject}'\n",
    "#    elif 'P01' in subject:\n",
    "#        T1_dest = f'{destination}/PO1/T1Img/{subject}'\n",
    "#    if not os.path.exists(T1_dest):\n",
    "#        shutil.copytree(T1_src, T1_dest)\n",
    "    "
   ]
  }
 ],
 "metadata": {
  "interpreter": {
   "hash": "3457992a284a47d39fd97a06d2c5f9bb09685ad50a60e51151f10dbfde67a8a4"
  },
  "kernelspec": {
   "display_name": "Python 3.9.5 ('base')",
   "language": "python",
   "name": "python3"
  },
  "language_info": {
   "codemirror_mode": {
    "name": "ipython",
    "version": 3
   },
   "file_extension": ".py",
   "mimetype": "text/x-python",
   "name": "python",
   "nbconvert_exporter": "python",
   "pygments_lexer": "ipython3",
   "version": "3.9.5"
  },
  "orig_nbformat": 4
 },
 "nbformat": 4,
 "nbformat_minor": 2
}
